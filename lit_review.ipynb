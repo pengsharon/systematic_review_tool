{
 "cells": [
  {
   "cell_type": "code",
   "execution_count": 1,
   "id": "7a8fca09-117b-44b0-a6e4-b7aeb34f983b",
   "metadata": {},
   "outputs": [
    {
     "name": "stdout",
     "output_type": "stream",
     "text": [
      "Requirement already satisfied: openai==0.28 in ./Library/jupyterlab-desktop/jlab_server/lib/python3.12/site-packages (0.28.0)\n",
      "Requirement already satisfied: requests>=2.20 in ./Library/jupyterlab-desktop/jlab_server/lib/python3.12/site-packages (from openai==0.28) (2.32.2)\n",
      "Requirement already satisfied: tqdm in ./Library/jupyterlab-desktop/jlab_server/lib/python3.12/site-packages (from openai==0.28) (4.66.4)\n",
      "Requirement already satisfied: aiohttp in ./Library/jupyterlab-desktop/jlab_server/lib/python3.12/site-packages (from openai==0.28) (3.9.5)\n",
      "Requirement already satisfied: charset-normalizer<4,>=2 in ./Library/jupyterlab-desktop/jlab_server/lib/python3.12/site-packages (from requests>=2.20->openai==0.28) (3.3.2)\n",
      "Requirement already satisfied: idna<4,>=2.5 in ./Library/jupyterlab-desktop/jlab_server/lib/python3.12/site-packages (from requests>=2.20->openai==0.28) (3.7)\n",
      "Requirement already satisfied: urllib3<3,>=1.21.1 in ./Library/jupyterlab-desktop/jlab_server/lib/python3.12/site-packages (from requests>=2.20->openai==0.28) (2.2.1)\n",
      "Requirement already satisfied: certifi>=2017.4.17 in ./Library/jupyterlab-desktop/jlab_server/lib/python3.12/site-packages (from requests>=2.20->openai==0.28) (2024.2.2)\n",
      "Requirement already satisfied: aiosignal>=1.1.2 in ./Library/jupyterlab-desktop/jlab_server/lib/python3.12/site-packages (from aiohttp->openai==0.28) (1.3.1)\n",
      "Requirement already satisfied: attrs>=17.3.0 in ./Library/jupyterlab-desktop/jlab_server/lib/python3.12/site-packages (from aiohttp->openai==0.28) (23.2.0)\n",
      "Requirement already satisfied: frozenlist>=1.1.1 in ./Library/jupyterlab-desktop/jlab_server/lib/python3.12/site-packages (from aiohttp->openai==0.28) (1.4.1)\n",
      "Requirement already satisfied: multidict<7.0,>=4.5 in ./Library/jupyterlab-desktop/jlab_server/lib/python3.12/site-packages (from aiohttp->openai==0.28) (6.0.5)\n",
      "Requirement already satisfied: yarl<2.0,>=1.0 in ./Library/jupyterlab-desktop/jlab_server/lib/python3.12/site-packages (from aiohttp->openai==0.28) (1.9.4)\n",
      "Note: you may need to restart the kernel to use updated packages.\n"
     ]
    }
   ],
   "source": [
    "pip install openai==0.28"
   ]
  },
  {
   "cell_type": "code",
   "execution_count": 2,
   "id": "225cf5c0-5b7b-48f8-89b1-79f9149bd924",
   "metadata": {},
   "outputs": [
    {
     "name": "stdout",
     "output_type": "stream",
     "text": [
      "Requirement already satisfied: streamlit in ./Library/jupyterlab-desktop/jlab_server/lib/python3.12/site-packages (1.35.0)\n",
      "Requirement already satisfied: altair<6,>=4.0 in ./Library/jupyterlab-desktop/jlab_server/lib/python3.12/site-packages (from streamlit) (5.3.0)\n",
      "Requirement already satisfied: blinker<2,>=1.0.0 in ./Library/jupyterlab-desktop/jlab_server/lib/python3.12/site-packages (from streamlit) (1.8.2)\n",
      "Requirement already satisfied: cachetools<6,>=4.0 in ./Library/jupyterlab-desktop/jlab_server/lib/python3.12/site-packages (from streamlit) (5.3.3)\n",
      "Requirement already satisfied: click<9,>=7.0 in ./Library/jupyterlab-desktop/jlab_server/lib/python3.12/site-packages (from streamlit) (8.1.7)\n",
      "Requirement already satisfied: numpy<2,>=1.19.3 in ./Library/jupyterlab-desktop/jlab_server/lib/python3.12/site-packages (from streamlit) (1.26.4)\n",
      "Requirement already satisfied: packaging<25,>=16.8 in ./Library/jupyterlab-desktop/jlab_server/lib/python3.12/site-packages (from streamlit) (24.0)\n",
      "Requirement already satisfied: pandas<3,>=1.3.0 in ./Library/jupyterlab-desktop/jlab_server/lib/python3.12/site-packages (from streamlit) (2.2.2)\n",
      "Requirement already satisfied: pillow<11,>=7.1.0 in ./Library/jupyterlab-desktop/jlab_server/lib/python3.12/site-packages (from streamlit) (10.3.0)\n",
      "Requirement already satisfied: protobuf<5,>=3.20 in ./Library/jupyterlab-desktop/jlab_server/lib/python3.12/site-packages (from streamlit) (4.25.3)\n",
      "Requirement already satisfied: pyarrow>=7.0 in ./Library/jupyterlab-desktop/jlab_server/lib/python3.12/site-packages (from streamlit) (16.1.0)\n",
      "Requirement already satisfied: requests<3,>=2.27 in ./Library/jupyterlab-desktop/jlab_server/lib/python3.12/site-packages (from streamlit) (2.32.2)\n",
      "Requirement already satisfied: rich<14,>=10.14.0 in ./Library/jupyterlab-desktop/jlab_server/lib/python3.12/site-packages (from streamlit) (13.7.1)\n",
      "Requirement already satisfied: tenacity<9,>=8.1.0 in ./Library/jupyterlab-desktop/jlab_server/lib/python3.12/site-packages (from streamlit) (8.3.0)\n",
      "Requirement already satisfied: toml<2,>=0.10.1 in ./Library/jupyterlab-desktop/jlab_server/lib/python3.12/site-packages (from streamlit) (0.10.2)\n",
      "Requirement already satisfied: typing-extensions<5,>=4.3.0 in ./Library/jupyterlab-desktop/jlab_server/lib/python3.12/site-packages (from streamlit) (4.11.0)\n",
      "Requirement already satisfied: gitpython!=3.1.19,<4,>=3.0.7 in ./Library/jupyterlab-desktop/jlab_server/lib/python3.12/site-packages (from streamlit) (3.1.43)\n",
      "Requirement already satisfied: pydeck<1,>=0.8.0b4 in ./Library/jupyterlab-desktop/jlab_server/lib/python3.12/site-packages (from streamlit) (0.9.1)\n",
      "Requirement already satisfied: tornado<7,>=6.0.3 in ./Library/jupyterlab-desktop/jlab_server/lib/python3.12/site-packages (from streamlit) (6.4)\n",
      "Requirement already satisfied: jinja2 in ./Library/jupyterlab-desktop/jlab_server/lib/python3.12/site-packages (from altair<6,>=4.0->streamlit) (3.1.4)\n",
      "Requirement already satisfied: jsonschema>=3.0 in ./Library/jupyterlab-desktop/jlab_server/lib/python3.12/site-packages (from altair<6,>=4.0->streamlit) (4.22.0)\n",
      "Requirement already satisfied: toolz in ./Library/jupyterlab-desktop/jlab_server/lib/python3.12/site-packages (from altair<6,>=4.0->streamlit) (0.12.1)\n",
      "Requirement already satisfied: gitdb<5,>=4.0.1 in ./Library/jupyterlab-desktop/jlab_server/lib/python3.12/site-packages (from gitpython!=3.1.19,<4,>=3.0.7->streamlit) (4.0.11)\n",
      "Requirement already satisfied: python-dateutil>=2.8.2 in ./Library/jupyterlab-desktop/jlab_server/lib/python3.12/site-packages (from pandas<3,>=1.3.0->streamlit) (2.9.0)\n",
      "Requirement already satisfied: pytz>=2020.1 in ./Library/jupyterlab-desktop/jlab_server/lib/python3.12/site-packages (from pandas<3,>=1.3.0->streamlit) (2024.1)\n",
      "Requirement already satisfied: tzdata>=2022.7 in ./Library/jupyterlab-desktop/jlab_server/lib/python3.12/site-packages (from pandas<3,>=1.3.0->streamlit) (2024.1)\n",
      "Requirement already satisfied: charset-normalizer<4,>=2 in ./Library/jupyterlab-desktop/jlab_server/lib/python3.12/site-packages (from requests<3,>=2.27->streamlit) (3.3.2)\n",
      "Requirement already satisfied: idna<4,>=2.5 in ./Library/jupyterlab-desktop/jlab_server/lib/python3.12/site-packages (from requests<3,>=2.27->streamlit) (3.7)\n",
      "Requirement already satisfied: urllib3<3,>=1.21.1 in ./Library/jupyterlab-desktop/jlab_server/lib/python3.12/site-packages (from requests<3,>=2.27->streamlit) (2.2.1)\n",
      "Requirement already satisfied: certifi>=2017.4.17 in ./Library/jupyterlab-desktop/jlab_server/lib/python3.12/site-packages (from requests<3,>=2.27->streamlit) (2024.2.2)\n",
      "Requirement already satisfied: markdown-it-py>=2.2.0 in ./Library/jupyterlab-desktop/jlab_server/lib/python3.12/site-packages (from rich<14,>=10.14.0->streamlit) (3.0.0)\n",
      "Requirement already satisfied: pygments<3.0.0,>=2.13.0 in ./Library/jupyterlab-desktop/jlab_server/lib/python3.12/site-packages (from rich<14,>=10.14.0->streamlit) (2.18.0)\n",
      "Requirement already satisfied: smmap<6,>=3.0.1 in ./Library/jupyterlab-desktop/jlab_server/lib/python3.12/site-packages (from gitdb<5,>=4.0.1->gitpython!=3.1.19,<4,>=3.0.7->streamlit) (5.0.1)\n",
      "Requirement already satisfied: MarkupSafe>=2.0 in ./Library/jupyterlab-desktop/jlab_server/lib/python3.12/site-packages (from jinja2->altair<6,>=4.0->streamlit) (2.1.5)\n",
      "Requirement already satisfied: attrs>=22.2.0 in ./Library/jupyterlab-desktop/jlab_server/lib/python3.12/site-packages (from jsonschema>=3.0->altair<6,>=4.0->streamlit) (23.2.0)\n",
      "Requirement already satisfied: jsonschema-specifications>=2023.03.6 in ./Library/jupyterlab-desktop/jlab_server/lib/python3.12/site-packages (from jsonschema>=3.0->altair<6,>=4.0->streamlit) (2023.12.1)\n",
      "Requirement already satisfied: referencing>=0.28.4 in ./Library/jupyterlab-desktop/jlab_server/lib/python3.12/site-packages (from jsonschema>=3.0->altair<6,>=4.0->streamlit) (0.35.1)\n",
      "Requirement already satisfied: rpds-py>=0.7.1 in ./Library/jupyterlab-desktop/jlab_server/lib/python3.12/site-packages (from jsonschema>=3.0->altair<6,>=4.0->streamlit) (0.18.1)\n",
      "Requirement already satisfied: mdurl~=0.1 in ./Library/jupyterlab-desktop/jlab_server/lib/python3.12/site-packages (from markdown-it-py>=2.2.0->rich<14,>=10.14.0->streamlit) (0.1.2)\n",
      "Requirement already satisfied: six>=1.5 in ./Library/jupyterlab-desktop/jlab_server/lib/python3.12/site-packages (from python-dateutil>=2.8.2->pandas<3,>=1.3.0->streamlit) (1.16.0)\n",
      "Note: you may need to restart the kernel to use updated packages.\n"
     ]
    }
   ],
   "source": [
    "pip install streamlit"
   ]
  },
  {
   "cell_type": "code",
   "execution_count": 3,
   "id": "05a7e980-ec69-43c2-b04e-9adb6e50890c",
   "metadata": {},
   "outputs": [
    {
     "name": "stdout",
     "output_type": "stream",
     "text": [
      "Requirement already satisfied: pandas in ./Library/jupyterlab-desktop/jlab_server/lib/python3.12/site-packages (2.2.2)\n",
      "Requirement already satisfied: openpyxl in ./Library/jupyterlab-desktop/jlab_server/lib/python3.12/site-packages (3.1.4)\n",
      "Requirement already satisfied: numpy>=1.26.0 in ./Library/jupyterlab-desktop/jlab_server/lib/python3.12/site-packages (from pandas) (1.26.4)\n",
      "Requirement already satisfied: python-dateutil>=2.8.2 in ./Library/jupyterlab-desktop/jlab_server/lib/python3.12/site-packages (from pandas) (2.9.0)\n",
      "Requirement already satisfied: pytz>=2020.1 in ./Library/jupyterlab-desktop/jlab_server/lib/python3.12/site-packages (from pandas) (2024.1)\n",
      "Requirement already satisfied: tzdata>=2022.7 in ./Library/jupyterlab-desktop/jlab_server/lib/python3.12/site-packages (from pandas) (2024.1)\n",
      "Requirement already satisfied: et-xmlfile in ./Library/jupyterlab-desktop/jlab_server/lib/python3.12/site-packages (from openpyxl) (1.1.0)\n",
      "Requirement already satisfied: six>=1.5 in ./Library/jupyterlab-desktop/jlab_server/lib/python3.12/site-packages (from python-dateutil>=2.8.2->pandas) (1.16.0)\n",
      "Note: you may need to restart the kernel to use updated packages.\n"
     ]
    }
   ],
   "source": [
    "pip install pandas openpyxl"
   ]
  },
  {
   "cell_type": "code",
   "execution_count": 4,
   "id": "e90c28fa-73f7-4922-a75c-44c985e2fb6a",
   "metadata": {},
   "outputs": [
    {
     "name": "stdout",
     "output_type": "stream",
     "text": [
      "Requirement already satisfied: chardet in ./Library/jupyterlab-desktop/jlab_server/lib/python3.12/site-packages (5.2.0)\n",
      "Note: you may need to restart the kernel to use updated packages.\n"
     ]
    }
   ],
   "source": [
    "pip install chardet"
   ]
  },
  {
   "cell_type": "code",
   "execution_count": 5,
   "id": "bbd370f0-b23a-49d0-8bdf-a15c753fc8aa",
   "metadata": {},
   "outputs": [
    {
     "data": {
      "application/vnd.jupyter.widget-view+json": {
       "model_id": "e51e349e51e341d1b88c7c50dd5c682d",
       "version_major": 2,
       "version_minor": 0
      },
      "text/plain": [
       "VBox(children=(FileUpload(value=(), accept='.ris', description='Upload'), Button(button_style='success', descr…"
      ]
     },
     "metadata": {},
     "output_type": "display_data"
    }
   ],
   "source": [
    "import ipywidgets as widgets\n",
    "from IPython.display import display, FileLink\n",
    "import chardet\n",
    "\n",
    "def parse_ris_file(input_file):\n",
    "    # Initialize lists to store multiple titles and abstracts\n",
    "    titles = []\n",
    "    abstracts = []\n",
    "\n",
    "    # Open the input file and read line by line\n",
    "    for line in input_file.split('\\n'):\n",
    "        if line.startswith('T1  - '):\n",
    "            title = line[6:].strip()\n",
    "            titles.append(title)\n",
    "        elif line.startswith('AB  - '):\n",
    "            abstract = line[6:].strip()\n",
    "            abstracts.append(abstract)\n",
    "    \n",
    "    # Create output text with titles and abstracts\n",
    "    output_text = \"\"\n",
    "    for i in range(max(len(titles), len(abstracts))):\n",
    "        if i < len(titles):\n",
    "            output_text += f\"Title {i + 1}: {titles[i]}\\n\"\n",
    "        if i < len(abstracts):\n",
    "            output_text += f\"Abstract {i + 1}: {abstracts[i]}\\n\"\n",
    "        output_text += \"\\n\"\n",
    "\n",
    "    return output_text\n",
    "\n",
    "def on_parse_ris_button_click(b):\n",
    "    # Get uploaded file information\n",
    "    uploaded_file = ris_file_upload.value[0]\n",
    "    raw_data = bytes(uploaded_file['content'])  # Convert memoryview to bytes\n",
    "    \n",
    "    # Detect the file encoding\n",
    "    result = chardet.detect(raw_data)\n",
    "    encoding = result['encoding']\n",
    "    \n",
    "    # Decode the file content using the detected encoding\n",
    "    file_content = raw_data.decode(encoding)\n",
    "    \n",
    "    # Parse the RIS file content\n",
    "    parsed_content = parse_ris_file(file_content)\n",
    "    \n",
    "    # Save parsed content to output.txt\n",
    "    with open('parsed_output.txt', 'w') as file:\n",
    "        file.write(parsed_content)\n",
    "    \n",
    "    # Display the download link for the parsed file\n",
    "    with upload_output:\n",
    "        upload_output.clear_output()\n",
    "        display(FileLink('parsed_output.txt', result_html_prefix=\"Click here to download the parsed text file: \", result_html_suffix=\"\"))\n",
    "\n",
    "# Setup interactive widgets for RIS file upload and processing\n",
    "ris_file_upload = widgets.FileUpload(\n",
    "    accept='.ris',  # Accepted file formats\n",
    "    multiple=False  # Single file upload\n",
    ")\n",
    "\n",
    "parse_ris_button = widgets.Button(\n",
    "    description='Parse RIS Texts',\n",
    "    disabled=False,\n",
    "    button_style='success', # 'success', 'info', 'warning', 'danger' or ''\n",
    "    tooltip='Click to parse RIS file',\n",
    "    icon='file-import' \n",
    ")\n",
    "\n",
    "upload_output = widgets.Output()\n",
    "\n",
    "# Bind the button click event\n",
    "parse_ris_button.on_click(on_parse_ris_button_click)\n",
    "\n",
    "# Display widgets\n",
    "display(\n",
    "    widgets.VBox([\n",
    "        ris_file_upload,\n",
    "        parse_ris_button,\n",
    "        upload_output\n",
    "    ])\n",
    ")\n"
   ]
  },
  {
   "cell_type": "code",
   "execution_count": 13,
   "id": "d3880b59-b530-4f5a-8d74-901c2641c6c7",
   "metadata": {
    "scrolled": true
   },
   "outputs": [
    {
     "data": {
      "text/html": [
       "<h1>Scoping/Literature Review Tool</h1>"
      ],
      "text/plain": [
       "<IPython.core.display.HTML object>"
      ]
     },
     "metadata": {},
     "output_type": "display_data"
    },
    {
     "data": {
      "application/vnd.jupyter.widget-view+json": {
       "model_id": "376032dc80a242348da39ec793c13d5a",
       "version_major": 2,
       "version_minor": 0
      },
      "text/plain": [
       "Textarea(value='Understand the current landscape of learning analytics (LA) and educational data mining (EDM) …"
      ]
     },
     "metadata": {},
     "output_type": "display_data"
    },
    {
     "data": {
      "application/vnd.jupyter.widget-view+json": {
       "model_id": "fc7036e7a6974033a5e2b538d456438f",
       "version_major": 2,
       "version_minor": 0
      },
      "text/plain": [
       "Textarea(value='What are the typical learning environments and characteristics used to study the impact of lea…"
      ]
     },
     "metadata": {},
     "output_type": "display_data"
    },
    {
     "data": {
      "application/vnd.jupyter.widget-view+json": {
       "model_id": "3ec520151c314df095302c7ec8a615d6",
       "version_major": 2,
       "version_minor": 0
      },
      "text/plain": [
       "Textarea(value='', description='Additional Info:', layout=Layout(height='80px', width='100%'), placeholder='En…"
      ]
     },
     "metadata": {},
     "output_type": "display_data"
    },
    {
     "data": {
      "application/vnd.jupyter.widget-view+json": {
       "model_id": "d9a9182595154284ab606d9ab70e4e22",
       "version_major": 2,
       "version_minor": 0
      },
      "text/plain": [
       "Textarea(value='', description='Abstracts:', layout=Layout(height='200px', width='100%'), placeholder='Enter a…"
      ]
     },
     "metadata": {},
     "output_type": "display_data"
    },
    {
     "data": {
      "application/vnd.jupyter.widget-view+json": {
       "model_id": "af29c5c80d4240e6b79b86e6f7d65548",
       "version_major": 2,
       "version_minor": 0
      },
      "text/plain": [
       "FileUpload(value=(), accept='.txt,.csv', description='Upload')"
      ]
     },
     "metadata": {},
     "output_type": "display_data"
    },
    {
     "data": {
      "application/vnd.jupyter.widget-view+json": {
       "model_id": "3189361da8a644c48ec4ae2fd4b0d321",
       "version_major": 2,
       "version_minor": 0
      },
      "text/plain": [
       "RadioButtons(description='Prompting Option:', options=('zero_shot', 'cot', 'prompt_chaining', 'combo'), value=…"
      ]
     },
     "metadata": {},
     "output_type": "display_data"
    },
    {
     "data": {
      "application/vnd.jupyter.widget-view+json": {
       "model_id": "c1581c384a6342008c3e9c79697d0ca3",
       "version_major": 2,
       "version_minor": 0
      },
      "text/plain": [
       "Button(description='Generate Search Strings', icon='search', style=ButtonStyle(), tooltip='Click to generate s…"
      ]
     },
     "metadata": {},
     "output_type": "display_data"
    },
    {
     "data": {
      "application/vnd.jupyter.widget-view+json": {
       "model_id": "4d06ef84cb684d129f38eec33fb92f97",
       "version_major": 2,
       "version_minor": 0
      },
      "text/plain": [
       "Button(description='Review Abstracts', icon='check', style=ButtonStyle(), tooltip='Click to review abstracts')"
      ]
     },
     "metadata": {},
     "output_type": "display_data"
    }
   ],
   "source": [
    "import openai\n",
    "import os\n",
    "from IPython.display import display, HTML\n",
    "import ipywidgets as widgets\n",
    "import chardet\n",
    "\n",
    "# Setup OpenAI API Key\n",
    "openai.api_key = \"insert-your-key-here\"\n",
    "\n",
    "def generate_search_strings(objective, questions):\n",
    "    prompt = f\"\"\"\n",
    "    I am conducting a scoping/literature review with the objective of {objective} and have the following questions in particular: {questions}\n",
    "\n",
    "    Based on these questions, can you help me generate potential search strings to find relevant papers and documents for this literature review? Please provide search strings that cover various aspects of these questions.\n",
    "    \"\"\"\n",
    "\n",
    "    try:\n",
    "        response = openai.ChatCompletion.create(\n",
    "            model=\"gpt-3.5-turbo\",\n",
    "            messages=[\n",
    "                {\"role\": \"system\", \"content\": \"You are a helpful assistant.\"},\n",
    "                {\"role\": \"user\", \"content\": prompt}\n",
    "            ],\n",
    "            max_tokens=3000,\n",
    "            n=1,\n",
    "            temperature=0.5,\n",
    "        )\n",
    "        return response['choices'][0]['message']['content']\n",
    "    except openai.error.OpenAIError as e:\n",
    "        return f\"An error occurred: {str(e)}\"\n",
    "\n",
    "def review_abstracts(objective, questions, additional_info, input_text, selection):\n",
    "    additional_info_str = f\" Here are some additional instructions or pointers: {additional_info}\" if additional_info else \"\"\n",
    "    \n",
    "    prompts = {\n",
    "        \"zero_shot\": f\"I am conducting a scoping/literature review with the objective of {objective} and have the following questions in particular: {questions}.{additional_info_str} Based on the following abstracts provided, should I include them in my literature review? For each abstract, respond with 'yes' or 'no' for inclusion, and format the output as 'Title | Yes/No':\\n{input_text}\\n\\n\",\n",
    "        \"cot\": f\"\"\"\n",
    "I am conducting a scoping/literature review with the objective of {objective} and have the following questions in particular: {questions}.{additional_info_str} Based on the following abstracts provided, should I include each of them in my literature review? For each abstract, respond with 'yes' or 'no' for inclusion, and format the output as 'Title | Yes/No':\n",
    "\n",
    "{input_text}\n",
    "\n",
    "Here's an example evaluation:\n",
    "- Abstract: \"Impacts of education on learning techniques\"\n",
    "- Step 1: Aligns with objective? Yes, it focuses on learning techniques.\n",
    "- Step 2: Addresses specific questions? Yes, it looks into educational impacts.\n",
    "- Step 3: Methodology sound? Yes, it uses robust data analysis.\n",
    "- Step 4: Results significant? Yes, it provides applicable insights.\n",
    "- Decision: \"Impacts of education on learning techniques | Yes\"\n",
    "\"\"\",\n",
    "        \"prompt_chaining\": f\"\"\"\n",
    "I am conducting a scoping/literature review with the objective of {objective} and have the following questions in particular: {questions}.{additional_info_str} Based on the following abstracts provided, should I include each of them in my literature review? For each abstract, respond with 'yes' or 'no' for inclusion, and format the output as 'Title | Yes/No':\n",
    "\n",
    "{input_text}\n",
    "\n",
    "To guide your assessment, evaluate each abstract individually. For example, consider an abstract titled 'Impacts of education on learning techniques'. Would you include this in your literature review? Provide a response like 'Impacts of education on learning techniques | Yes' or 'Impacts of education on learning techniques | No' along with a brief explanation.\"\n",
    "\"\"\",\n",
    "        \"combo\": f\"\"\"\n",
    "I am conducting a scoping/literature review with the objective of {objective} and have the following questions in particular: {questions}.{additional_info_str} Based on the following abstracts provided, should I include each of them in my literature review? For each abstract, respond with 'yes' or 'no' for inclusion, and format the output as 'Title | Yes/No':\n",
    "\n",
    "{input_text}\n",
    "\n",
    "To help with your decision, follow these steps for each abstract:\n",
    "1. Determine if the abstract aligns with the review objective.\n",
    "2. Assess if it addresses any of the specific questions.\n",
    "3. Evaluate the study's methodology.\n",
    "4. Consider the significance and applicability of the results.\n",
    "5. Summarize your thought process and provide a final decision.\n",
    "\n",
    "Here's an example evaluation:\n",
    "- Abstract: \"Impacts of education on learning techniques\"\n",
    "- Step 1: Aligns with objective? Yes, it focuses on learning techniques.\n",
    "- Step 2: Addresses specific questions? Yes, it looks into educational impacts.\n",
    "- Step 3: Methodology sound? Yes, it uses robust data analysis.\n",
    "- Step 4: Results significant? Yes, it provides applicable insights.\n",
    "- Decision: \"Impacts of education on learning techniques | Yes\"\n",
    "\"\"\"\n",
    "    }\n",
    "\n",
    "    prompt = prompts[selection]\n",
    "\n",
    "    try:\n",
    "        # First call to ChatGPT\n",
    "        response1 = openai.ChatCompletion.create(\n",
    "            model=\"gpt-3.5-turbo\",\n",
    "            messages=[\n",
    "                {\"role\": \"system\", \"content\": \"You are a helpful assistant.\"},\n",
    "                {\"role\": \"user\", \"content\": prompt}\n",
    "            ],\n",
    "            max_tokens=3000,\n",
    "            n=1,\n",
    "            temperature=0.5,\n",
    "        )\n",
    "        review1 = response1['choices'][0]['message']['content']\n",
    "\n",
    "        # Second call to ChatGPT\n",
    "        response2 = openai.ChatCompletion.create(\n",
    "            model=\"gpt-3.5-turbo\",\n",
    "            messages=[\n",
    "                {\"role\": \"system\", \"content\": \"You are a helpful assistant.\"},\n",
    "                {\"role\": \"user\", \"content\": prompt}\n",
    "            ],\n",
    "            max_tokens=3000,\n",
    "            n=1,\n",
    "            temperature=0.5,\n",
    "        )\n",
    "        review2 = response2['choices'][0]['message']['content']\n",
    "\n",
    "        # Third call to ChatGPT to summarize results\n",
    "        summary_prompt = f\"\"\"\n",
    "        Here are the results of two reviews for the same set of abstracts. For every single abstract in each response, provide a final decision based on the following rules:\n",
    "        - If both reviews give 'yes', the final decision is 'yes'.\n",
    "        - If both reviews give 'no', the final decision is 'no'.\n",
    "        - If one review gives 'yes' and the other gives 'no', the final decision is 'maybe'.\n",
    "\n",
    "        Review 1:\n",
    "        {review1}\n",
    "\n",
    "        Review 2:\n",
    "        {review2}\n",
    "\n",
    "        Format the output as a table with columns: Title, Final Decision.\n",
    "        \"\"\"\n",
    "\n",
    "        response3 = openai.ChatCompletion.create(\n",
    "            model=\"gpt-3.5-turbo\",\n",
    "            messages=[\n",
    "                {\"role\": \"system\", \"content\": \"You are a helpful assistant.\"},\n",
    "                {\"role\": \"user\", \"content\": summary_prompt}\n",
    "            ],\n",
    "            max_tokens=3000,\n",
    "            n=1,\n",
    "            temperature=0.5,\n",
    "        )\n",
    "        summary = response3['choices'][0]['message']['content']\n",
    "\n",
    "        return review1, review2, summary\n",
    "    except openai.error.OpenAIError as e:\n",
    "        return f\"An error occurred: {str(e)}\"\n",
    "\n",
    "# Setup interactive widgets\n",
    "objective_text = widgets.Textarea(\n",
    "    value='Understand the current landscape of learning analytics (LA) and educational data mining (EDM) in post-secondary business education.',\n",
    "    placeholder='Enter the objective of your review',\n",
    "    description='Objective:',\n",
    "    disabled=False,\n",
    "    layout=widgets.Layout(width='100%', height='80px')\n",
    ")\n",
    "\n",
    "questions_text = widgets.Textarea(\n",
    "    value= \"What are the typical learning environments and characteristics used to study the impact of learning analytics in post-secondary business education?, \" \\\n",
    "            \"What are the overarching conclusions from systematic and scoping reviews on the state of learning analytics in post-secondary education, with a focus on business education?,\" \\\n",
    "            \"How can these results be leveraged to successfully incorporate learning analytics in post-secondary pedagogical design in a business school?, \" \\\n",
    "            \"What role do machine learning and other predictive tools have in developing intervention strategies in post-secondary business education?\",\n",
    "    placeholder='Enter your review questions',\n",
    "    description='Questions:',\n",
    "    disabled=False,\n",
    "    layout=widgets.Layout(width='100%', height='80px')\n",
    ")\n",
    "\n",
    "additional_info_text = widgets.Textarea(\n",
    "    value='',\n",
    "    placeholder='Enter any additional information or instructions',\n",
    "    description='Additional Info:',\n",
    "    disabled=False,\n",
    "    layout=widgets.Layout(width='100%', height='80px')\n",
    ")\n",
    "\n",
    "input_text = widgets.Textarea(\n",
    "    value='',\n",
    "    placeholder='Enter abstracts to review',\n",
    "    description='Abstracts:',\n",
    "    disabled=False,\n",
    "    layout=widgets.Layout(width='100%', height='200px')\n",
    ")\n",
    "\n",
    "file_upload = widgets.FileUpload(\n",
    "    accept='.txt,.csv',\n",
    "    multiple=False\n",
    ")\n",
    "\n",
    "selection_radio = widgets.RadioButtons(\n",
    "    options=['zero_shot', 'cot', 'prompt_chaining', 'combo'],\n",
    "    value='zero_shot',\n",
    "    description='Prompting Option:',\n",
    "    disabled=False\n",
    ")\n",
    "\n",
    "generate_button = widgets.Button(\n",
    "    description='Generate Search Strings',\n",
    "    disabled=False,\n",
    "    button_style='',\n",
    "    tooltip='Click to generate search strings',\n",
    "    icon='search'\n",
    ")\n",
    "\n",
    "review_button = widgets.Button(\n",
    "    description='Review Abstracts',\n",
    "    disabled=False,\n",
    "    button_style='',\n",
    "    tooltip='Click to review abstracts',\n",
    "    icon='check'\n",
    ")\n",
    "\n",
    "def on_generate_button_clicked(b):\n",
    "    objective = objective_text.value\n",
    "    questions = questions_text.value\n",
    "    search_strings = generate_search_strings(objective, questions)\n",
    "    display(HTML(f\"<h3>Generated Search Strings:</h3><pre>{search_strings}</pre>\"))\n",
    "\n",
    "def on_review_button_clicked(b):\n",
    "    objective = objective_text.value\n",
    "    questions = questions_text.value\n",
    "    additional_info = additional_info_text.value\n",
    "    input_abstracts = input_text.value\n",
    "    selection = selection_radio.value\n",
    "    review1, review2, summary = review_abstracts(objective, questions, additional_info, input_abstracts, selection)\n",
    "    display(HTML(f\"<h3>Review 1:</h3><pre>{review1}</pre>\"))\n",
    "    display(HTML(f\"<h3>Review 2:</h3><pre>{review2}</pre>\"))\n",
    "    display(HTML(f\"<h3>Summary:</h3><pre>{summary}</pre>\"))\n",
    "\n",
    "generate_button.on_click(on_generate_button_clicked)\n",
    "review_button.on_click(on_review_button_clicked)\n",
    "\n",
    "# Display widgets\n",
    "display(HTML(\"<h1>Scoping/Literature Review Tool</h1>\"))\n",
    "display(objective_text)\n",
    "display(questions_text)\n",
    "display(additional_info_text)\n",
    "display(input_text)\n",
    "display(file_upload)\n",
    "\n",
    "display(selection_radio)\n",
    "display(generate_button)\n",
    "display(review_button)\n"
   ]
  }
 ],
 "metadata": {
  "kernelspec": {
   "display_name": "Python 3 (ipykernel)",
   "language": "python",
   "name": "python3"
  },
  "language_info": {
   "codemirror_mode": {
    "name": "ipython",
    "version": 3
   },
   "file_extension": ".py",
   "mimetype": "text/x-python",
   "name": "python",
   "nbconvert_exporter": "python",
   "pygments_lexer": "ipython3",
   "version": "3.12.3"
  }
 },
 "nbformat": 4,
 "nbformat_minor": 5
}
